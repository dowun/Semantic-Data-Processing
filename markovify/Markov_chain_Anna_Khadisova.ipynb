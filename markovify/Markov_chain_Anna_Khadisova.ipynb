{
 "cells": [
  {
   "cell_type": "code",
   "execution_count": 4,
   "id": "1371f970",
   "metadata": {},
   "outputs": [
    {
     "name": "stdout",
     "output_type": "stream",
     "text": [
      "Joy of discovering new ideas?\n"
     ]
    },
    {
     "name": "stderr",
     "output_type": "stream",
     "text": [
      "[nltk_data] Downloading package punkt to\n",
      "[nltk_data]     C:\\Users\\annkh\\AppData\\Roaming\\nltk_data...\n",
      "[nltk_data]   Package punkt is already up-to-date!\n"
     ]
    }
   ],
   "source": [
    "# generates a new tweet using the constructed Markov chain\n",
    "import nltk\n",
    "nltk.download('punkt')\n",
    "import random\n",
    "\n",
    "# Dataset with diverse text\n",
    "tweets = [\n",
    "    \"I love programming\",\n",
    "    \"Python is my favorite language\",\n",
    "    \"Machine learning is fascinating\",\n",
    "    \"Artificial intelligence is shaping the future\",\n",
    "    \"Data science empowers decision-making\",\n",
    "    \"Web development is a creative process\",\n",
    "    \"Explore the wonders of the universe\",\n",
    "    \"Coding is like solving a puzzle\",\n",
    "    \"Learning new skills opens new doors\",\n",
    "    \"Innovation drives progress\",\n",
    "    \"Technology is a powerful tool for change\",\n",
    "    \"The beauty of open-source collaboration\",\n",
    "    \"Stay curious, stay learning\",\n",
    "    \"Inspiration can be found anywhere\",\n",
    "    \"Nature is the best teacher\",\n",
    "    \"Books are portals to other worlds\",\n",
    "    \"The joy of discovering new ideas\",\n",
    "    \"Challenge yourself to grow\",\n",
    "    \"Creativity knows no bounds\",\n",
    "    \"Dream big, work hard, achieve greatness\",\n",
    "    \"The sky is not the limit, your mind is\",\n",
    "    \"Passion fuels success\",\n",
    "    \"Embrace the unknown, for it leads to innovation\",\n",
    "    \"Simplicity is the ultimate sophistication\",\n",
    "    \"Strive for excellence, not perfection\",\n",
    "    \"A journey of a thousand miles begins with a single step\",\n",
    "    \"Diversity is the key to resilience\",\n",
    "    \"Connect, collaborate, create\",\n",
    "    \"Kindness is the language that the deaf can hear and the blind can see\",\n",
    "    \"Life is 10% what happens to us and 90% how we react to it\",\n",
    "    \"Success is not final, failure is not fatal: It is the courage to continue that counts\",\n",
    "    \"Be the change you wish to see in the world\"\n",
    "]\n",
    "\n",
    "# Tokenize the tweets\n",
    "tokenized_tweets = [nltk.word_tokenize(tweet) for tweet in tweets]\n",
    "\n",
    "# Build a transition model (Higher Order Markov chain)\n",
    "def build_markov_chain(tokenized_tweets, order=2):\n",
    "    model = {}\n",
    "    for tweet in tokenized_tweets:\n",
    "        for i in range(len(tweet) - order):\n",
    "            current_ngram = tuple(tweet[i:i + order])\n",
    "            next_word = tweet[i + order]\n",
    "            if current_ngram in model:\n",
    "                model[current_ngram].append(next_word)\n",
    "            else:\n",
    "                model[current_ngram] = [next_word]\n",
    "    return model\n",
    "\n",
    "markov_chain = build_markov_chain(tokenized_tweets, order=2)\n",
    "\n",
    "# Generate a tweet\n",
    "def generate_tweet(markov_chain, length=10):\n",
    "    current_ngram = random.choice(list(markov_chain.keys()))\n",
    "    tweet = list(current_ngram)\n",
    "    \n",
    "    for _ in range(length - len(current_ngram)):\n",
    "        if current_ngram in markov_chain:\n",
    "            next_word = random.choice(markov_chain[current_ngram])\n",
    "            tweet.append(next_word)\n",
    "            current_ngram = tuple(tweet[-len(current_ngram):])\n",
    "        else:\n",
    "            break\n",
    "\n",
    "    # Ensure the tweet starts with a capitalized word and ends with punctuation\n",
    "    tweet[0] = tweet[0].capitalize()\n",
    "    if tweet[-1][-1] not in ['.', '!', '?']:\n",
    "        tweet[-1] += random.choice(['.', '!', '?'])\n",
    "\n",
    "    return ' '.join(tweet)\n",
    "\n",
    "# Generate a tweet of length 15 for more diversity\n",
    "generated_tweet = generate_tweet(markov_chain, length=15)\n",
    "print(generated_tweet)\n"
   ]
  },
  {
   "cell_type": "code",
   "execution_count": null,
   "id": "08cbab9f",
   "metadata": {},
   "outputs": [],
   "source": []
  },
  {
   "cell_type": "code",
   "execution_count": null,
   "id": "62fce379",
   "metadata": {},
   "outputs": [],
   "source": []
  }
 ],
 "metadata": {
  "kernelspec": {
   "display_name": "Python 3 (ipykernel)",
   "language": "python",
   "name": "python3"
  },
  "language_info": {
   "codemirror_mode": {
    "name": "ipython",
    "version": 3
   },
   "file_extension": ".py",
   "mimetype": "text/x-python",
   "name": "python",
   "nbconvert_exporter": "python",
   "pygments_lexer": "ipython3",
   "version": "3.11.5"
  }
 },
 "nbformat": 4,
 "nbformat_minor": 5
}
