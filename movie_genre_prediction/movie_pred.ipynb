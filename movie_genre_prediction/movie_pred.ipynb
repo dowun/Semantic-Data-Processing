{
 "cells": [
  {
   "cell_type": "markdown",
   "metadata": {},
   "source": [
    "# Movie Genre Prediction"
   ]
  },
  {
   "cell_type": "code",
   "execution_count": 1,
   "metadata": {},
   "outputs": [],
   "source": [
    "# Loading librarys\n",
    "import torch.nn as nn\n",
    "import torch.optim as optim\n",
    "from tqdm import tqdm\n",
    "from sklearn.preprocessing import LabelEncoder\n",
    "import pandas as pd\n",
    "from transformers import BertTokenizer, BertModel\n",
    "import torch\n",
    "from transformers import AutoTokenizer, AutoModelForSequenceClassification, AdamW\n",
    "from torch.utils.data import DataLoader, TensorDataset\n",
    "from sklearn.preprocessing import LabelEncoder"
   ]
  },
  {
   "cell_type": "markdown",
   "metadata": {},
   "source": [
    "## Loading the Data"
   ]
  },
  {
   "cell_type": "code",
   "execution_count": 2,
   "metadata": {},
   "outputs": [
    {
     "name": "stderr",
     "output_type": "stream",
     "text": [
      "C:\\Users\\User\\AppData\\Local\\Temp\\ipykernel_26064\\1393707429.py:1: ParserWarning: Falling back to the 'python' engine because the 'c' engine does not support regex separators (separators > 1 char and different from '\\s+' are interpreted as regex); you can avoid this warning by specifying engine='python'.\n",
      "  df=pd.read_csv('train_data.txt', sep=' ::: ', header=None)\n"
     ]
    },
    {
     "data": {
      "text/html": [
       "<div>\n",
       "<style scoped>\n",
       "    .dataframe tbody tr th:only-of-type {\n",
       "        vertical-align: middle;\n",
       "    }\n",
       "\n",
       "    .dataframe tbody tr th {\n",
       "        vertical-align: top;\n",
       "    }\n",
       "\n",
       "    .dataframe thead th {\n",
       "        text-align: right;\n",
       "    }\n",
       "</style>\n",
       "<table border=\"1\" class=\"dataframe\">\n",
       "  <thead>\n",
       "    <tr style=\"text-align: right;\">\n",
       "      <th></th>\n",
       "      <th>0</th>\n",
       "      <th>1</th>\n",
       "      <th>2</th>\n",
       "      <th>3</th>\n",
       "    </tr>\n",
       "  </thead>\n",
       "  <tbody>\n",
       "    <tr>\n",
       "      <th>0</th>\n",
       "      <td>1</td>\n",
       "      <td>Oscar et la dame rose (2009)</td>\n",
       "      <td>drama</td>\n",
       "      <td>Listening in to a conversation between his doc...</td>\n",
       "    </tr>\n",
       "    <tr>\n",
       "      <th>1</th>\n",
       "      <td>2</td>\n",
       "      <td>Cupid (1997)</td>\n",
       "      <td>thriller</td>\n",
       "      <td>A brother and sister with a past incestuous re...</td>\n",
       "    </tr>\n",
       "    <tr>\n",
       "      <th>2</th>\n",
       "      <td>3</td>\n",
       "      <td>Young, Wild and Wonderful (1980)</td>\n",
       "      <td>adult</td>\n",
       "      <td>As the bus empties the students for their fiel...</td>\n",
       "    </tr>\n",
       "    <tr>\n",
       "      <th>3</th>\n",
       "      <td>4</td>\n",
       "      <td>The Secret Sin (1915)</td>\n",
       "      <td>drama</td>\n",
       "      <td>To help their unemployed father make ends meet...</td>\n",
       "    </tr>\n",
       "    <tr>\n",
       "      <th>4</th>\n",
       "      <td>5</td>\n",
       "      <td>The Unrecovered (2007)</td>\n",
       "      <td>drama</td>\n",
       "      <td>The film's title refers not only to the un-rec...</td>\n",
       "    </tr>\n",
       "  </tbody>\n",
       "</table>\n",
       "</div>"
      ],
      "text/plain": [
       "   0                                 1         2  \\\n",
       "0  1      Oscar et la dame rose (2009)     drama   \n",
       "1  2                      Cupid (1997)  thriller   \n",
       "2  3  Young, Wild and Wonderful (1980)     adult   \n",
       "3  4             The Secret Sin (1915)     drama   \n",
       "4  5            The Unrecovered (2007)     drama   \n",
       "\n",
       "                                                   3  \n",
       "0  Listening in to a conversation between his doc...  \n",
       "1  A brother and sister with a past incestuous re...  \n",
       "2  As the bus empties the students for their fiel...  \n",
       "3  To help their unemployed father make ends meet...  \n",
       "4  The film's title refers not only to the un-rec...  "
      ]
     },
     "execution_count": 2,
     "metadata": {},
     "output_type": "execute_result"
    }
   ],
   "source": [
    "df=pd.read_csv('train_data.txt', sep=' ::: ', header=None)\n",
    "df.head()"
   ]
  },
  {
   "cell_type": "code",
   "execution_count": 3,
   "metadata": {},
   "outputs": [
    {
     "data": {
      "text/html": [
       "<div>\n",
       "<style scoped>\n",
       "    .dataframe tbody tr th:only-of-type {\n",
       "        vertical-align: middle;\n",
       "    }\n",
       "\n",
       "    .dataframe tbody tr th {\n",
       "        vertical-align: top;\n",
       "    }\n",
       "\n",
       "    .dataframe thead th {\n",
       "        text-align: right;\n",
       "    }\n",
       "</style>\n",
       "<table border=\"1\" class=\"dataframe\">\n",
       "  <thead>\n",
       "    <tr style=\"text-align: right;\">\n",
       "      <th></th>\n",
       "      <th>Title</th>\n",
       "      <th>Genre</th>\n",
       "      <th>Description</th>\n",
       "    </tr>\n",
       "  </thead>\n",
       "  <tbody>\n",
       "    <tr>\n",
       "      <th>0</th>\n",
       "      <td>Oscar et la dame rose (2009)</td>\n",
       "      <td>drama</td>\n",
       "      <td>Listening in to a conversation between his doc...</td>\n",
       "    </tr>\n",
       "    <tr>\n",
       "      <th>1</th>\n",
       "      <td>Cupid (1997)</td>\n",
       "      <td>thriller</td>\n",
       "      <td>A brother and sister with a past incestuous re...</td>\n",
       "    </tr>\n",
       "    <tr>\n",
       "      <th>2</th>\n",
       "      <td>Young, Wild and Wonderful (1980)</td>\n",
       "      <td>adult</td>\n",
       "      <td>As the bus empties the students for their fiel...</td>\n",
       "    </tr>\n",
       "    <tr>\n",
       "      <th>3</th>\n",
       "      <td>The Secret Sin (1915)</td>\n",
       "      <td>drama</td>\n",
       "      <td>To help their unemployed father make ends meet...</td>\n",
       "    </tr>\n",
       "    <tr>\n",
       "      <th>4</th>\n",
       "      <td>The Unrecovered (2007)</td>\n",
       "      <td>drama</td>\n",
       "      <td>The film's title refers not only to the un-rec...</td>\n",
       "    </tr>\n",
       "  </tbody>\n",
       "</table>\n",
       "</div>"
      ],
      "text/plain": [
       "                              Title     Genre  \\\n",
       "0      Oscar et la dame rose (2009)     drama   \n",
       "1                      Cupid (1997)  thriller   \n",
       "2  Young, Wild and Wonderful (1980)     adult   \n",
       "3             The Secret Sin (1915)     drama   \n",
       "4            The Unrecovered (2007)     drama   \n",
       "\n",
       "                                         Description  \n",
       "0  Listening in to a conversation between his doc...  \n",
       "1  A brother and sister with a past incestuous re...  \n",
       "2  As the bus empties the students for their fiel...  \n",
       "3  To help their unemployed father make ends meet...  \n",
       "4  The film's title refers not only to the un-rec...  "
      ]
     },
     "execution_count": 3,
     "metadata": {},
     "output_type": "execute_result"
    }
   ],
   "source": [
    "# Renaming the columns\n",
    "df = df.drop(columns=[0])\n",
    "df = df.rename(columns={1: \"Title\", 2: \"Genre\", 3: \"Description\"})\n",
    "df.head()"
   ]
  },
  {
   "cell_type": "code",
   "execution_count": 4,
   "metadata": {},
   "outputs": [
    {
     "data": {
      "text/plain": [
       "(54214, 3)"
      ]
     },
     "execution_count": 4,
     "metadata": {},
     "output_type": "execute_result"
    }
   ],
   "source": [
    "# Create a new dataframe with two columns\n",
    "df1 = df[['Genre', 'Title', 'Description']].copy()\n",
    "\n",
    "# Remove missing values (NaN)\n",
    "df1 = df1[pd.notnull(df1['Description'])]\n",
    "df1.shape"
   ]
  },
  {
   "cell_type": "code",
   "execution_count": 5,
   "metadata": {},
   "outputs": [],
   "source": [
    "# make two smaller datasets for train and test\n",
    "df2 = df1.sample(2000, random_state=10).copy()\n",
    "df1 = df1.sample(10000, random_state=1).copy()"
   ]
  },
  {
   "cell_type": "code",
   "execution_count": 9,
   "metadata": {},
   "outputs": [
    {
     "data": {
      "text/html": [
       "<div>\n",
       "<style scoped>\n",
       "    .dataframe tbody tr th:only-of-type {\n",
       "        vertical-align: middle;\n",
       "    }\n",
       "\n",
       "    .dataframe tbody tr th {\n",
       "        vertical-align: top;\n",
       "    }\n",
       "\n",
       "    .dataframe thead th {\n",
       "        text-align: right;\n",
       "    }\n",
       "</style>\n",
       "<table border=\"1\" class=\"dataframe\">\n",
       "  <thead>\n",
       "    <tr style=\"text-align: right;\">\n",
       "      <th></th>\n",
       "      <th>Genre</th>\n",
       "      <th>Title</th>\n",
       "      <th>Description</th>\n",
       "    </tr>\n",
       "  </thead>\n",
       "  <tbody>\n",
       "    <tr>\n",
       "      <th>50161</th>\n",
       "      <td>western</td>\n",
       "      <td>Great Day in the Morning (1956)</td>\n",
       "      <td>After a card game Southerner Owen Pentecost fi...</td>\n",
       "    </tr>\n",
       "    <tr>\n",
       "      <th>31800</th>\n",
       "      <td>documentary</td>\n",
       "      <td>Inside the Kill Box: Fighting the Gulf War (2001)</td>\n",
       "      <td>Drawn from 200 hours of interviews with over 6...</td>\n",
       "    </tr>\n",
       "    <tr>\n",
       "      <th>37562</th>\n",
       "      <td>drama</td>\n",
       "      <td>San Fran (????)</td>\n",
       "      <td>Levi, a struggling unemployed divorcee, reluct...</td>\n",
       "    </tr>\n",
       "    <tr>\n",
       "      <th>47506</th>\n",
       "      <td>thriller</td>\n",
       "      <td>Black Butterfly (2017/II)</td>\n",
       "      <td>Outside a mountain town grappling with a serie...</td>\n",
       "    </tr>\n",
       "    <tr>\n",
       "      <th>11609</th>\n",
       "      <td>comedy</td>\n",
       "      <td>Bollywood Beats (2009)</td>\n",
       "      <td>Raj, a lovable Indian guy, is down on his luck...</td>\n",
       "    </tr>\n",
       "  </tbody>\n",
       "</table>\n",
       "</div>"
      ],
      "text/plain": [
       "             Genre                                              Title  \\\n",
       "50161      western                    Great Day in the Morning (1956)   \n",
       "31800  documentary  Inside the Kill Box: Fighting the Gulf War (2001)   \n",
       "37562        drama                                    San Fran (????)   \n",
       "47506     thriller                          Black Butterfly (2017/II)   \n",
       "11609       comedy                             Bollywood Beats (2009)   \n",
       "\n",
       "                                             Description  \n",
       "50161  After a card game Southerner Owen Pentecost fi...  \n",
       "31800  Drawn from 200 hours of interviews with over 6...  \n",
       "37562  Levi, a struggling unemployed divorcee, reluct...  \n",
       "47506  Outside a mountain town grappling with a serie...  \n",
       "11609  Raj, a lovable Indian guy, is down on his luck...  "
      ]
     },
     "execution_count": 9,
     "metadata": {},
     "output_type": "execute_result"
    }
   ],
   "source": [
    "df2.head()"
   ]
  },
  {
   "cell_type": "code",
   "execution_count": 15,
   "metadata": {},
   "outputs": [
    {
     "name": "stdout",
     "output_type": "stream",
     "text": [
      "356\n"
     ]
    }
   ],
   "source": [
    "#check for same data in train and test\n",
    "idx = df1.index.intersection(df2.index)\n",
    "print(len(idx))"
   ]
  },
  {
   "cell_type": "markdown",
   "metadata": {},
   "source": [
    "Train and Test sets overlap by 356 entries, so the evaluation is not perfect"
   ]
  },
  {
   "cell_type": "markdown",
   "metadata": {},
   "source": [
    "## Create Model\n",
    "using pretrained BERT from Huggingface and finetune it"
   ]
  },
  {
   "cell_type": "code",
   "execution_count": null,
   "metadata": {},
   "outputs": [],
   "source": [
    "label_encoder = LabelEncoder()\n",
    "\n",
    "# Encoding, Genre to numbers\n",
    "y_train_encoded = label_encoder.fit_transform(df1['Genre'])\n",
    "print(len(label_encoder.classes_))\n",
    "y_test_encoded = label_encoder.fit_transform(df2['Genre'])\n",
    "print(len(label_encoder.classes_))\n",
    "\n",
    "# Model selection, use BERT\n",
    "model_name = \"bert-base-uncased\"\n",
    "tokenizer = BertTokenizer.from_pretrained(model_name)\n",
    "embedding_model = BertModel.from_pretrained(model_name)\n",
    "\n",
    "# enable GPU use if possible\n",
    "device = torch.device(\"cuda\" if torch.cuda.is_available() else \"cpu\")\n",
    "embedding_model.to(device)\n",
    "\n",
    "# Tokenizer & embeddings\n",
    "max_length = 12\n",
    "concatenated_text = df1['Description'] + \" \" + df1['Title']\n",
    "concatenated_text2 = df2['Description'] + \" \" + df2['Title']\n",
    "encoded_inputs = tokenizer(list(concatenated_text), padding='max_length', truncation=True, max_length=max_length, return_attention_mask=True)\n",
    "encoded_tests = tokenizer(list(concatenated_text2), padding='max_length', truncation=True, max_length=max_length, return_attention_mask=True)\n",
    "\n",
    "# Create DataLoader for train dataset \n",
    "batch_size= 16\n",
    "train_dataset = TensorDataset(torch.tensor(encoded_inputs['input_ids']), torch.tensor(encoded_inputs['attention_mask']), torch.tensor(y_train_encoded))\n",
    "test_dataset = TensorDataset(torch.tensor(encoded_inputs['input_ids']), torch.tensor(encoded_inputs['attention_mask']), torch.tensor(y_train_encoded))\n",
    "train_loader = DataLoader(train_dataset, batch_size=batch_size, shuffle=True)\n",
    "test_loader = DataLoader(test_dataset, batch_size=batch_size, shuffle=True)\n",
    "\n",
    "# NETWORK definition,,\n",
    "class CustomClassifier(nn.Module):\n",
    "    def __init__(self, embedding_model, num_classes):\n",
    "        super(CustomClassifier, self).__init__()\n",
    "        self.embedding_model = embedding_model\n",
    "        self.fc = nn.Linear(embedding_model.config.hidden_size, num_classes)\n",
    "\n",
    "    def forward(self, input_ids, attention_mask):\n",
    "        embeddings = self.embedding_model(input_ids, attention_mask=attention_mask).last_hidden_state[:, 0]\n",
    "        logits = self.fc(embeddings)\n",
    "        return logits\n",
    "\n",
    "# Create the new model and move to GPU\n",
    "num_classes = len(label_encoder.classes_)\n",
    "model = CustomClassifier(embedding_model, num_classes)\n",
    "model.to(device)\n",
    "\n",
    "# Optimizer & loss\n",
    "optimizer = optim.AdamW(model.parameters(), lr=1e-5)\n",
    "loss_fn = nn.CrossEntropyLoss()\n"
   ]
  },
  {
   "cell_type": "markdown",
   "metadata": {},
   "source": [
    "## Training and Evaluation"
   ]
  },
  {
   "cell_type": "markdown",
   "metadata": {},
   "source": [
    "Model is trained for 4 and 20 epochs, to see difference"
   ]
  },
  {
   "cell_type": "code",
   "execution_count": null,
   "metadata": {},
   "outputs": [],
   "source": [
    "# Training and Evaluation\n",
    "epochs = 20\n",
    "model.train()\n",
    "for epoch in range(epochs):\n",
    "    progress_bar = tqdm(train_loader, desc=f\"Epoch {epoch + 1}/20\", leave=False)\n",
    "    total_correct = 0\n",
    "    total_samples = 0\n",
    "    \n",
    "    for batch in progress_bar:\n",
    "        optimizer.zero_grad()\n",
    "        input_ids, attention_mask, labels = [item.type(torch.LongTensor).to(device) for item in batch]\n",
    "        logits = model(input_ids, attention_mask)\n",
    "        loss = loss_fn(logits, labels)\n",
    "        loss.backward()\n",
    "        optimizer.step()\n",
    "        \n",
    "        #  accuracy \n",
    "        _, predicted = torch.max(logits, 1)\n",
    "        total_correct += (predicted == labels).sum().item()\n",
    "        total_samples += labels.size(0)\n",
    "        accuracy = total_correct / total_samples\n",
    "        \n",
    "        progress_bar.set_postfix({\"loss\": loss.item(), \"accuracy\": accuracy})\n",
    "\n",
    "    # Accuracy in epochs during training\n",
    "    print(f'Epoch {epoch + 1} - Accuracy: {accuracy:.4f}')\n",
    "\n",
    "\n",
    "# Evaluation of model\n",
    "model.eval()\n",
    "total_correct = 0\n",
    "total_samples = 0\n",
    "with torch.no_grad():\n",
    "    progress_bar = tqdm(test_loader, desc=\"Evaluating\", leave=False)\n",
    "    for batch in progress_bar:\n",
    "        input_ids, attention_mask, labels = [item.type(torch.LongTensor).to(device) for item in batch]\n",
    "        logits = model(input_ids, attention_mask)\n",
    "        _, predicted = torch.max(logits, 1)\n",
    "        total_correct += (predicted == labels).sum().item()\n",
    "        total_samples += labels.size(0)\n",
    "        progress_bar.set_postfix({\"accuracy\": total_correct / total_samples})\n",
    "\n",
    "accuracy = total_correct / total_samples\n",
    "print(f'Final Accuracy: {accuracy:.4f}') # Accuracy for Test"
   ]
  },
  {
   "cell_type": "markdown",
   "metadata": {},
   "source": [
    "# Model trained for 4 Epochs\n",
    "Epoch 2 - Accuracy: 0.4755\n",
    "                                                                                         \n",
    "Epoch 3 - Accuracy: 0.5416\n",
    "                                                                                         \n",
    "Epoch 4 - Accuracy: 0.6057\n",
    "                                                                             \n",
    "Final Accuracy: 0.7207"
   ]
  },
  {
   "cell_type": "markdown",
   "metadata": {},
   "source": [
    "# Model trained for 20 Epochs\n",
    "Epoch 2 - Accuracy: 0.4973\n",
    "                                                                                         \n",
    "Epoch 3 - Accuracy: 0.5755\n",
    "                                                                                         \n",
    "Epoch 4 - Accuracy: 0.6635\n",
    "                                                                                         \n",
    "Epoch 5 - Accuracy: 0.7525\n",
    "                                                                                         \n",
    "Epoch 6 - Accuracy: 0.8268\n",
    "                                                                                          \n",
    "Epoch 7 - Accuracy: 0.8775\n",
    "                                                                                          \n",
    "Epoch 8 - Accuracy: 0.9123\n",
    "                                                                                          \n",
    "Epoch 9 - Accuracy: 0.9371\n",
    "                                                                                           \n",
    "Epoch 10 - Accuracy: 0.9587\n",
    "                                                                                           \n",
    "Epoch 11 - Accuracy: 0.9688\n",
    "                                                                                            \n",
    "Epoch 12 - Accuracy: 0.9762\n",
    "                                                                                            \n",
    "Epoch 13 - Accuracy: 0.9841\n",
    "                                                                                            \n",
    "Epoch 14 - Accuracy: 0.9856\n",
    "                                                                                            \n",
    "Epoch 15 - Accuracy: 0.9885\n",
    "                                                                                            \n",
    "Epoch 16 - Accuracy: 0.9915\n",
    "                                                                                            \n",
    "Epoch 17 - Accuracy: 0.9921\n",
    "                                                                                            \n",
    "Epoch 18 - Accuracy: 0.9919\n",
    "                                                                                            \n",
    "Epoch 19 - Accuracy: 0.9917\n",
    "                                                                                            \n",
    "Epoch 20 - Accuracy: 0.9956\n",
    "                                                                             \n",
    "Final Accuracy: 0.9985"
   ]
  },
  {
   "cell_type": "markdown",
   "metadata": {},
   "source": [
    "With a pretrainded model the training don't have to be that long, to achieve very good results"
   ]
  }
 ],
 "metadata": {
  "kernelspec": {
   "display_name": "ann",
   "language": "python",
   "name": "python3"
  },
  "language_info": {
   "codemirror_mode": {
    "name": "ipython",
    "version": 3
   },
   "file_extension": ".py",
   "mimetype": "text/x-python",
   "name": "python",
   "nbconvert_exporter": "python",
   "pygments_lexer": "ipython3",
   "version": "3.9.16"
  },
  "orig_nbformat": 4
 },
 "nbformat": 4,
 "nbformat_minor": 2
}
